{
 "cells": [
  {
   "cell_type": "markdown",
   "metadata": {},
   "source": [
    "*** Question 1: Login to your Instagram Handle***"
   ]
  },
  {
   "cell_type": "code",
   "execution_count": 1,
   "metadata": {},
   "outputs": [],
   "source": [
    "from selenium import webdriver\n",
    "import time\n",
    "\n",
    "from bs4 import BeautifulSoup \n",
    "\n",
    "from selenium.webdriver.support.ui import WebDriverWait\n",
    "from selenium.webdriver.support import expected_conditions as EC\n",
    "from selenium.webdriver.common.by import By\n",
    "\n",
    "\n",
    "driver=webdriver.Chrome(executable_path=r\"E:\\chromedriver_win32\\chromedriver.exe\")\n",
    "#open INSTAGRAM page\n",
    "driver.get(\"https://www.instagram.com/\")\n",
    "time.sleep(3)\n",
    "## enter username\n",
    "user_name=driver.find_element_by_name(\"username\")\n",
    "user_name.send_keys(\"addyouusername\")\n",
    "\n",
    "## enter password\n",
    "password=driver.find_element_by_name(\"password\")\n",
    "password.send_keys(\"addyourpasswrod\")\n",
    "\n",
    "# click on login\n",
    "driver.find_element_by_xpath(\"//div[contains(@class,'_4EzTm')]\").click()\n",
    "# after login wait for 5sec for the page to load\n",
    "time.sleep(10)\n",
    "\n",
    "# time sleep in more before of network issue, can decreade it if network is goo\n",
    "# new window opens with a alert on info saving\n",
    "# if don't want to save info- class_name=\"yWX7d\", else if want to save info class_name=\"L3NKy\"\n",
    "alert1=driver.find_element_by_class_name(\"yWX7d\")\n",
    "alert1.click()\n",
    "# after login wait for 5sec for the page to load\n",
    "time.sleep(5)\n",
    "\n",
    "# new windown opens with another alert on notifications\n",
    "#turn on notification vutton:Turn On class_name=\"bIiDR\" , not turning notification on click on button:Not Now class_name=\"Holwm\"\n",
    "alert2=driver.find_element_by_class_name(\"HoLwm\")\n",
    "alert2.click()\n",
    "# after login wait for 5sec for the page to load\n",
    "time.sleep(3)\n",
    "\n"
   ]
  },
  {
   "cell_type": "markdown",
   "metadata": {},
   "source": [
    "# scrolling infinite Extra Knowledge\n",
    "current_height=driver.execute_script('return document.body.scrollHeight')\n",
    "while True:\n",
    "    driver.execute_script('window.scrollTo(0,arguments[0]);',current_height)\n",
    "    time.sleep(3)\n",
    "    new_height=driver.execute_script('return document.body.scrollHeight')\n",
    "    print(current_height,new_height)\n",
    "    if new_height==current_height:\n",
    "        break\n",
    "    current_height=new_height"
   ]
  },
  {
   "cell_type": "markdown",
   "metadata": {},
   "source": [
    "*** Question 2: Type for “food” in search bar and print all the names of the Instagram Handles that are displayed in list after typing “food” Note : Make sure to avoid printing hashtags***"
   ]
  },
  {
   "cell_type": "code",
   "execution_count": 2,
   "metadata": {},
   "outputs": [
    {
     "name": "stdout",
     "output_type": "stream",
     "text": [
      "foodie_incarnate\n",
      "delhifoodwalks\n",
      "dilsefoodie\n",
      "foodtalkindia\n",
      "the.food_cult\n",
      "dehradun_street_food\n",
      "food\n",
      "foodrush.recipe\n",
      "yourfoodlab\n",
      "dehradunfoodguide\n",
      "the.food.busters\n",
      "bruised_menu\n",
      "food_dopamine\n",
      "food_lay_by\n",
      "the_food_decker\n",
      "thisisdelhi\n",
      "doonfoodtales\n",
      "foodie_zindabad\n",
      "fallen.for.food\n",
      "fooddistan\n",
      "foodieboy_india\n",
      "the_haridwar_food\n",
      "food.darzee\n",
      "footballm.d\n",
      "food_divine_hub\n",
      "foodbible\n",
      "foodies_goodies7\n",
      "mumbaifoodie\n",
      "food._hub_\n",
      "food_of_doon\n",
      "foodys\n",
      "yummy_paradise_55\n",
      "foodie.since.98\n",
      "epic_food_lab_\n",
      "goodfoodkitchenmumbai\n",
      "bisckoo\n",
      "foodlamour\n",
      "doonfoodblogger\n",
      "food_discoverys\n",
      "Cafe Cibo\n",
      "thefoodarian\n",
      "foodie_beverage_nature_crush_\n",
      "foodorigins.in\n",
      "food.dujour\n",
      "zack.chug\n",
      "foodporndetroit\n",
      "foodnetwork\n",
      "FOOD ZONE\n",
      "foodporn\n",
      "Work Food and Entertainment City\n",
      "food_hokage\n"
     ]
    }
   ],
   "source": [
    "#Type for “food” in search bar and print all the names of the \n",
    "#Instagram Handles that are displayed in list after typing “food”\n",
    "#Note : Make sure to avoid printing hashtags\n",
    "\n",
    "# click on search box\n",
    "search=driver.find_element_by_class_name(\"_0aCwM\")\n",
    "search.click()\n",
    "\n",
    "type_food=driver.find_element_by_class_name(\"x3qfX\")\n",
    "type_food.send_keys(\"food\")\n",
    "time.sleep(3)\n",
    "\n",
    "# see the list of all the handles in class='-qQT3'\n",
    "#but as we want to get the names of Instagram Handle only so go to class_name='_7UhW9   xLCgt       qyrsm KV-D4          uL8Hv '\n",
    "all_handles=driver.find_elements_by_xpath(\"//div[contains(@class,'_7UhW9   xLCgt       qyrsm KV-D4          uL8Hv ')]\")\n",
    "for data in all_handles:\n",
    "    # see for #\n",
    "    if \"#\" not in data.text:\n",
    "        print(data.text)\n",
    "   "
   ]
  },
  {
   "cell_type": "markdown",
   "metadata": {},
   "source": [
    " ***Question 3: Searching and Opening a profile using Open profile of “So Delhi” ***"
   ]
  },
  {
   "cell_type": "code",
   "execution_count": 3,
   "metadata": {},
   "outputs": [],
   "source": [
    "#Searching and Opening a profile using \n",
    "#Open profile of “So Delhi” \n",
    "\n",
    "# first click on class=\"aIYm8 coreSpriteSearchClear\" button so cancel the last search\n",
    "\n",
    "driver.find_element_by_class_name(\"aIYm8\").click()\n",
    "\n",
    "# enter new search \"So Delhi\"\n",
    "# click on search box\n",
    "search=driver.find_element_by_class_name(\"_0aCwM\")\n",
    "search.click()\n",
    "\n",
    "type_=driver.find_element_by_class_name(\"x3qfX\")\n",
    "type_.send_keys(\"So Delhi\")\n",
    "time.sleep(3)\n",
    "\n",
    "# opening profile of \"So Delhi\" class_name=\"-qQT3\"\n",
    "link_for_all_searchs_in_list=driver.find_elements_by_class_name(\"-qQT3\")\n",
    "\n",
    "# So Delhi at 1st place for click on 1st lInk\n",
    "link_for_all_searchs_in_list[0].click()\n"
   ]
  },
  {
   "cell_type": "markdown",
   "metadata": {},
   "source": [
    "*** Question 4: Follow/Unfollow given handle - \n",
    "Open the Instagram Handle of “So Delhi”\n",
    "Start following it. Print a message if you are already following\n",
    "After following, unfollow the instagram handle. Print a message if you have already unfollowed.***"
   ]
  },
  {
   "cell_type": "code",
   "execution_count": 6,
   "metadata": {},
   "outputs": [
    {
     "name": "stdout",
     "output_type": "stream",
     "text": [
      "Following FRom Now\n"
     ]
    }
   ],
   "source": [
    "#Follow/Unfollow given handle - \n",
    "#Open the Instagram Handle of “So Delhi”\n",
    "#Start following it. Print a message if you are already following\n",
    "\n",
    "# AS profile already opened so 2)\n",
    "is_following=driver.find_element_by_class_name(\"_1OSdk\")\n",
    "if is_following.text==\"Follow\":\n",
    "    is_following.click()\n",
    "    print(\"Following FRom Now\")\n",
    "\n",
    "else:\n",
    "    print(\"Already Following\")\n",
    "    \n",
    "# or # click on class_name=\"_1OSdk\" \n",
    "#following=driver.find_element_by_class_name(\"_1OSdk\")\n",
    "#following.click()"
   ]
  },
  {
   "cell_type": "code",
   "execution_count": 8,
   "metadata": {},
   "outputs": [
    {
     "name": "stdout",
     "output_type": "stream",
     "text": [
      "Unfollowed NOW\n"
     ]
    }
   ],
   "source": [
    "#After following, unfollow the instagram handle. Print a message if you have already unfollowed.\n",
    "\n",
    "# click on class_name=\"_1OSdk\" and then search for option \"unfollow and \"cancel\n",
    "# if already following\n",
    "following=driver.find_element_by_class_name(\"_1OSdk\")\n",
    "if following.text==\"Follow\":\n",
    "    print(\"Already Unfollowing\")\n",
    "    \n",
    "\n",
    "\n",
    "# if want to unfollow click on class_name=\"-Cab_\"\n",
    "# if want to cancel the pop_up click on class_name=\"HoLwm\"\n",
    "\n",
    "\n",
    "else:\n",
    "    time.sleep(3)\n",
    "    following.click()\n",
    "    unfollow=driver.find_element_by_class_name(\"-Cab_\")\n",
    "    if unfollow.text ==\"Unfollow\":\n",
    "        print(\"Unfollowed NOW\")\n",
    "        unfollow.click()\n",
    "\n",
    "    else:\n",
    "            cancel=driver.find_element_by_class_name(\"HoLwm\")\n",
    "            cancel.click()\n",
    "    "
   ]
  },
  {
   "cell_type": "code",
   "execution_count": null,
   "metadata": {},
   "outputs": [],
   "source": [
    "## EXTRA KNOWLEDGE\n",
    "# link for home page messenger explore acitivity-feed and self page:\n",
    "\n",
    "pages=driver.find_elements_by_class_name(\"XrOey\")\n",
    "link_for_home=pages[0]\n",
    "link_for_message_box=pages[1]\n",
    "link_for_explore=pages[2]\n",
    "link_for_activity_feed=pages[3]\n",
    "link_for_self_page=pages[4]\n"
   ]
  },
  {
   "cell_type": "markdown",
   "metadata": {},
   "source": [
    "*** Question 5: Like/Unlike posts\n",
    "Liking the top 30 posts of the ‘dilsefoodie'. Print message if you have already liked it.\n",
    "Unliking the top 30 posts of the ‘dilsefoodie’. Print message if you have already unliked it.***"
   ]
  },
  {
   "cell_type": "code",
   "execution_count": null,
   "metadata": {},
   "outputs": [],
   "source": [
    "# Note because of slow internet the program can show error some times\n",
    "#Like/Unlike posts\n",
    "#Liking the top 30 posts of the ‘dilsefoodie'. Print message if you have already liked it.\n",
    "#Unliking the top 30 posts of the ‘dilsefoodie’. Print message if you have already unliked it\n",
    "\n",
    "# on the search box now type 'dilsefoodie'\n",
    "# if something written on search box use driver.find_element_by_class_name(\"aIYm8\").click() to delete the content\n",
    "\n",
    "# enter new search 'dilsefoodie'\n",
    "\n",
    "# click on search box\n",
    "search=driver.find_element_by_class_name(\"_0aCwM\")\n",
    "search.click()\n",
    "type_=driver.find_element_by_class_name(\"x3qfX\")\n",
    "type_.send_keys(\"dilsefoodie\")\n",
    "time.sleep(3)\n",
    "\n",
    " #opening profile of \"dilsefoodie\" class_name=\"-qQT3\"\n",
    "link_for_all_searchs_in_list=driver.find_elements_by_class_name(\"-qQT3\")\n",
    "\n",
    "# dilsefoodie at 1st place for click on 1st lInk\n",
    "link_for_all_searchs_in_list[0].click()"
   ]
  },
  {
   "cell_type": "markdown",
   "metadata": {},
   "source": [
    "***# for liking 1st way is opening each photos one by one have used the second method as this is sometimse not working\n",
    "from bs4 import BeautifulSoup\n",
    "\n",
    "from selenium.common.exceptions import StaleElementReferenceException\n",
    "\n",
    "#scrolling through the page once gives us details of 1st 30 pics.\n",
    "# 6 pics pixel for y=250 so for 30 pics y=1250\n",
    "driver.execute_script('window.scrollBy(0,1250);')\n",
    "time.sleep(10)\n",
    "# class_name for each first 30 post is =\"_9AhH0\"\n",
    "ans=driver.find_elements_by_class_name(\"_9AhH0\")\n",
    "# go through each link in ans:\n",
    "for link in ans:\n",
    "    try:\n",
    "        \n",
    "        link.click()\n",
    "        time.sleep(5)\n",
    "        # there are 4 button like/unlike:\"fr66n\", comment:\"_15y0l\",share:\"_5e4p\",archieve:\"wmtNn\"\n",
    "        inside_link=driver.find_element_by_class_name(\"fr66n\")\n",
    "        #after opening the post look in the page_source for \"like\" or \"unlike\" in class_=\"fr66n\"\n",
    "        data=BeautifulSoup(driver.page_source,\"lxml\")\n",
    "        ans=data.find(class_=\"fr66n\")\n",
    "        # if want to like check\n",
    "        if ans.span.svg[\"aria-label\"]==\"Like\":\n",
    "            inside_link.click()\n",
    "\n",
    "        else:\n",
    "            print(\"Already Liked\")\n",
    "        time.sleep(3)\n",
    "        # click on cancel butthon\n",
    "        driver.find_element_by_xpath(\"//div[contains(@class,'qJPeX            fm1AK   TxciK yiMZG')]\").click()\n",
    "        time.sleep(5)\n",
    "    except StaleElementReferenceException:\n",
    "        break***"
   ]
  },
  {
   "cell_type": "markdown",
   "metadata": {},
   "source": [
    "***# for unliking 1st way is opening each photos one by one have used the second method as this is sometimse not working\n",
    "from bs4 import BeautifulSoup\n",
    "from selenium.common.exceptions import StaleElementReferenceException\n",
    "#scrolling through the page once gives us details of 1st 30 pics.\n",
    "# 6 pics pixel for y=250 so for 30 pics y=1250\n",
    "driver.execute_script('window.scrollBy(0,1250);')\n",
    "time.sleep(3)\n",
    "# class_name for each first 30 post is =\"_9AhH0\"\n",
    "ans=driver.find_elements_by_class_name(\"_9AhH0\")\n",
    "# go through each link in ans:\n",
    "for link in ans[0:1]:\n",
    "    try:\n",
    "        link.click()\n",
    "        time.sleep(3)\n",
    "        # there are 4 button like/unlike:\"fr66n\", comment:\"_15y0l\",share:\"_5e4p\",archieve:\"wmtNn\"\n",
    "        inside_link=driver.find_element_by_class_name(\"fr66n\")\n",
    "        #after opening the post look in the page_source for \"like\" or \"unlike\" in class_=\"fr66n\"\n",
    "        data=BeautifulSoup(driver.page_source,\"lxml\")\n",
    "        ans=data.find(class_=\"fr66n\")\n",
    "        # if want to unlike check\n",
    "        if ans.span.svg[\"aria-label\"]==\"Unlike\":\n",
    "            inside_link.click()\n",
    "        else:\n",
    "            print(\"Already Unliked\")\n",
    "        time.sleep(3)\n",
    "        #click on cancel button\n",
    "        driver.find_element_by_xpath(\"//div[contains(@class,'qJPeX            fm1AK   TxciK yiMZG')]\").click()\n",
    "        time.sleep(5)\n",
    "    except StaleElementReferenceException:\n",
    "        break***\n",
    "        "
   ]
  },
  {
   "cell_type": "code",
   "execution_count": null,
   "metadata": {},
   "outputs": [],
   "source": [
    "## For Liking this is second method\n",
    "## In this we can move forward in post by using the forward arrow:\n",
    "# for this we just need the link of 1st post\n",
    "\n",
    "# class_name for all post is =\"_9AhH0\"\n",
    "first_post=driver.find_element_by_class_name(\"_9AhH0\")\n",
    "# for click on this link\n",
    "first_post.click()\n",
    "# we can now run a loop for the number of post we want to like/unlike:e.g.30\n",
    "for i in range(50):\n",
    "    #1st see the details of page\n",
    "    inside_link=driver.find_element_by_xpath(\"//span[@class='fr66n']\")\n",
    "    #after opening the post look in the page_source for \"like\" or \"unlike\" in class_=\"fr66n\"\n",
    "    data=BeautifulSoup(driver.page_source,\"lxml\")\n",
    "    ans=data.find(class_=\"fr66n\")\n",
    "    # if want to unlike check\n",
    "    if ans.span.svg[\"aria-label\"]==\"Like\":\n",
    "        inside_link.click()\n",
    "    else:\n",
    "        print(\"Already Liked\")\n",
    "    time.sleep(1)    \n",
    "    # after liking now we don't have to returb to main page rather we have to click on class that contains:\n",
    "    #<a class=\" _65Bje  coreSpriteRightPaginationArrow\" tabindex=\"0\">Next</a>\n",
    "    if i==29:\n",
    "        driver.find_element_by_xpath(\"//div[contains(@class,'qJPeX            fm1AK   TxciK yiMZG')]\").click()\n",
    "        break\n",
    "    \n",
    "    driver.find_element_by_xpath(\"//a[contains(@class,' _65Bje  coreSpriteRightPaginationArrow')]\").click()\n",
    "    \n",
    "    time.sleep(5)\n",
    "    \n",
    "        \n"
   ]
  },
  {
   "cell_type": "code",
   "execution_count": null,
   "metadata": {},
   "outputs": [],
   "source": [
    "### FOR Unliking this is second method\n",
    "##  we can move forward in post by using the forward arrow:\n",
    "# for this we just need the link of 1st post\n",
    "\n",
    "# class_name for all post is =\"_9AhH0\"\n",
    "first_post=driver.find_element_by_class_name(\"_9AhH0\")\n",
    "# for click on this link\n",
    "first_post.click()\n",
    "# we can now run a loop for the number of post we want to like/unlike:e.g.30\n",
    "for i in range(50):\n",
    "    #1st see the details of page\n",
    "    inside_link=driver.find_element_by_xpath(\"//span[@class='fr66n']\")\n",
    "    #after opening the post look in the page_source for \"like\" or \"unlike\" in class_=\"fr66n\"\n",
    "    data=BeautifulSoup(driver.page_source,\"lxml\")\n",
    "    ans=data.find(class_=\"fr66n\")\n",
    "    # if want to unlike check\n",
    "    if ans.span.svg[\"aria-label\"]==\"Unlike\":\n",
    "        inside_link.click()\n",
    "    else:\n",
    "        print(\"Already Unliked\")\n",
    "    time.sleep(1)    \n",
    "    # break if i=29 in this case and click on close button\n",
    "    if i==49:\n",
    "        driver.find_element_by_xpath(\"//div[contains(@class,'qJPeX            fm1AK   TxciK yiMZG')]\").click()\n",
    "        break\n",
    "    # after liking now we don't have to returb to main page rather we have to click on class that contains:\n",
    "    #<a class=\" _65Bje  coreSpriteRightPaginationArrow\" tabindex=\"0\">Next</a>\n",
    "    driver.find_element_by_xpath(\"//a[contains(@class,' _65Bje  coreSpriteRightPaginationArrow')]\").click()\n",
    "    time.sleep(2)\n",
    "    \n",
    "    "
   ]
  },
  {
   "cell_type": "markdown",
   "metadata": {},
   "source": [
    "*** Question 6: Extract list of followers\n",
    "Extract the usernames of the first 500 followers of ‘foodtalkindia’ and ‘sodelhi’.\n",
    "Now print all the followers of “foodtalkindia” that you are following but those who don’t follow you.***"
   ]
  },
  {
   "cell_type": "code",
   "execution_count": null,
   "metadata": {},
   "outputs": [],
   "source": [
    "#Extract list of followers\n",
    "#Extract the usernames of the first 500 followers of ‘foodtalkindia’ and ‘sodelhi’.\n",
    "#Note:getting only first 100 followers because of network issue as it is taking too much time\n",
    "#Now print all the followers of “foodtalkindia” that you are following but those who don’t follow you.\n",
    "\n",
    "#rather than going to home page we can just click on search  eraze last search and type our new search\n",
    "# first click on class=\"aIYm8 coreSpriteSearchClear\" button so cancel the last search\n",
    "\n",
    "# 1.'sodelhi'\n",
    "#driver.find_element_by_class_name(\"aIYm8\").click()\n",
    "\n",
    "# enter new search \"So Delhi\"\n",
    "# click on search box\n",
    "search=driver.find_element_by_class_name(\"_0aCwM\")\n",
    "search.click()\n",
    "\n",
    "type_=driver.find_element_by_class_name(\"x3qfX\")\n",
    "type_.send_keys(\"sodelhi\")\n",
    "time.sleep(3)\n",
    "\n",
    "# opening profile of \"sodelhi\" class_name=\"-qQT3\"\n",
    "link_for_all_searchs_in_list=driver.find_elements_by_class_name(\"-qQT3\")\n",
    "\n",
    "# So Delhi at 1st place for click on 1st lInk\n",
    "link_for_all_searchs_in_list[0].click()\n",
    "\n"
   ]
  },
  {
   "cell_type": "code",
   "execution_count": null,
   "metadata": {},
   "outputs": [],
   "source": [
    "# we can use the partial link to click on follower\n",
    "driver.find_element_by_partial_link_text(\"follower\").click()"
   ]
  },
  {
   "cell_type": "code",
   "execution_count": null,
   "metadata": {},
   "outputs": [],
   "source": [
    "# now we want to change the focus to pop up window\n",
    "## getting only first 100 followers because of network issue as it is taking too much time\n",
    "from selenium.webdriver.support.ui import WebDriverWait\n",
    "from selenium.webdriver.support import expected_conditions as EC\n",
    "from selenium.webdriver.common.by import By\n",
    "\n",
    "pop_up_window = WebDriverWait(driver,5).until(EC.element_to_be_clickable(\n",
    "        (By.XPATH, \"//div[@class='isgrP']\")))\n",
    "# and scroll the follower list\n",
    "# Scroll till Followers list \n",
    "\n",
    "while True:\n",
    "    driver.execute_script('arguments[0].scrollTop = arguments[0].scrollTop + arguments[0].offsetHeight;', pop_up_window)\n",
    "    ans=driver.find_elements_by_class_name(\"MqpiF\")\n",
    "    \n",
    "    if len(ans)>=100:\n",
    "        break\n",
    "        \n",
    "    time.sleep(1)\n",
    "        "
   ]
  },
  {
   "cell_type": "code",
   "execution_count": null,
   "metadata": {},
   "outputs": [],
   "source": [
    "## ans has 108 user_name  as we are looking for 100 we print only first 100\n",
    "print(len(ans))\n",
    "for user_name in ans[0:100]:\n",
    "    print(user_name.text)\n",
    "    \n",
    "# return to page\n",
    "driver.back()"
   ]
  },
  {
   "cell_type": "code",
   "execution_count": null,
   "metadata": {},
   "outputs": [],
   "source": [
    "# 2:\"foodtalkindia\"\n",
    "search=driver.find_element_by_class_name(\"_0aCwM\")\n",
    "search.click()\n",
    "\n",
    "type_=driver.find_element_by_class_name(\"x3qfX\")\n",
    "type_.send_keys(\"foodtalkindia\")\n",
    "time.sleep(3)\n",
    "\n",
    "# opening profile of \"sodelhi\" class_name=\"-qQT3\"\n",
    "link_for_all_searchs_in_list=driver.find_elements_by_class_name(\"-qQT3\")\n",
    "\n",
    "# So Delhi at 1st place for click on 1st lInk\n",
    "link_for_all_searchs_in_list[0].click()\n"
   ]
  },
  {
   "cell_type": "code",
   "execution_count": null,
   "metadata": {},
   "outputs": [],
   "source": [
    "# or we can use the partial link to click on follower\n",
    "driver.find_element_by_partial_link_text(\"follower\").click()"
   ]
  },
  {
   "cell_type": "code",
   "execution_count": null,
   "metadata": {},
   "outputs": [],
   "source": [
    "# now we want to change the focus to pop up window\n",
    "## getting only first 100 followers because of network issue as it is taking too much time\n",
    "from selenium.webdriver.support.ui import WebDriverWait\n",
    "from selenium.webdriver.support import expected_conditions as EC\n",
    "from selenium.webdriver.common.by import By\n",
    "\n",
    "pop_up_window = WebDriverWait(driver,5).until(EC.element_to_be_clickable(\n",
    "        (By.XPATH, \"//div[@class='isgrP']\")))\n",
    "# and scroll the follower list\n",
    "# Scroll till Followers list \n",
    "\n",
    "while True:\n",
    "    driver.execute_script('arguments[0].scrollTop = arguments[0].scrollTop + arguments[0].offsetHeight;', pop_up_window)\n",
    "    ans=driver.find_elements_by_class_name(\"MqpiF\")\n",
    "    \n",
    "    if len(ans)>=100:\n",
    "        break\n",
    "        \n",
    "    time.sleep(1)\n",
    "        "
   ]
  },
  {
   "cell_type": "code",
   "execution_count": null,
   "metadata": {},
   "outputs": [],
   "source": [
    "## ans has 108 user_name  as we are looking for 100 we print only first 100\n",
    "print(len(ans))\n",
    "for user_name in ans[0:100]:\n",
    "    print(user_name.text)\n",
    "    \n",
    "# return to page\n",
    "driver.back()"
   ]
  },
  {
   "cell_type": "code",
   "execution_count": 18,
   "metadata": {},
   "outputs": [],
   "source": [
    "## #Now print all the followers of “foodtalkindia” that you are following but those who don’t follow you.\n",
    "# 2:\"foodtalkindia\"\n",
    "search=driver.find_element_by_class_name(\"_0aCwM\")\n",
    "search.click()\n",
    "\n",
    "type_=driver.find_element_by_class_name(\"x3qfX\")\n",
    "type_.send_keys(\"foodtalkindia\")\n",
    "time.sleep(3)\n",
    "\n",
    "# opening profile of \"sodelhi\" class_name=\"-qQT3\"\n",
    "link_for_all_searchs_in_list=driver.find_elements_by_class_name(\"-qQT3\")\n",
    "\n",
    "# So Delhi at 1st place for click on 1st lInk\n",
    "link_for_all_searchs_in_list[0].click()\n"
   ]
  },
  {
   "cell_type": "code",
   "execution_count": 19,
   "metadata": {},
   "outputs": [],
   "source": [
    "## now we have to see the followers of \"foodtakhindia\" whom i'm following\n",
    "followed_by=driver.find_elements_by_class_name(\"_32eiM\")\n",
    "# fisrt text is entirely 'Followed by anubhav.gusain and himalayas.in'\n",
    "\n",
    "# append those user_name in foodtalkindia_follower list\n",
    "foodtalkindia_follower=[]\n",
    "for user_name in followed_by[1:]:\n",
    "    foodtalkindia_follower.append(user_name.text)\n",
    "\n"
   ]
  },
  {
   "cell_type": "code",
   "execution_count": 20,
   "metadata": {},
   "outputs": [
    {
     "data": {
      "text/plain": [
       "['anubhav.gusain', 'himalayas.in']"
      ]
     },
     "execution_count": 20,
     "metadata": {},
     "output_type": "execute_result"
    }
   ],
   "source": [
    "foodtalkindia_follower"
   ]
  },
  {
   "cell_type": "code",
   "execution_count": 22,
   "metadata": {},
   "outputs": [],
   "source": [
    "## now going to my own followers to check whether these 'foodtalkindia_follower' are following me or not\n",
    "# link for home page messenger explore acitivity-feed and self page:\n",
    "pages=driver.find_elements_by_class_name(\"XrOey\")\n",
    "link_for_home=pages[0]\n",
    "link_for_message_box=pages[1]\n",
    "link_for_explore=pages[2]\n",
    "link_for_activity_feed=pages[3]\n",
    "link_for_self_page=pages[4]\n",
    "\n",
    "# as i want to go to my own_page to see my followers so\n",
    "link_for_self_page.click()\n",
    "time.sleep(3)\n",
    "# now we have 5 option 1: Profile , 2: Saved ,3:Settings , 4: Switch Accounts 5: Logout\n",
    "# click on link with name profile\n",
    "driver.find_element_by_partial_link_text(\"Profile\").click()\n",
    "# now pr0file is open"
   ]
  },
  {
   "cell_type": "code",
   "execution_count": 34,
   "metadata": {},
   "outputs": [],
   "source": [
    "# or we can use the partial link to click on follower\n",
    "driver.find_element_by_partial_link_text(\"follower\").click()"
   ]
  },
  {
   "cell_type": "code",
   "execution_count": 35,
   "metadata": {},
   "outputs": [],
   "source": [
    "# now we want to change the focus to pop up window\n",
    "## getting only first 100 followers because of network issue as it is taking too much time\n",
    "from selenium.webdriver.support.ui import WebDriverWait\n",
    "from selenium.webdriver.support import expected_conditions as EC\n",
    "from selenium.webdriver.common.by import By\n",
    "\n",
    "pop_up_window = WebDriverWait(driver,5).until(EC.element_to_be_clickable(\n",
    "        (By.XPATH, \"//div[@class='isgrP']\")))\n",
    "# and scroll the follower list\n",
    "# Scroll till Followers list \n",
    "\n",
    "while True:\n",
    "    driver.execute_script('arguments[0].scrollTop = arguments[0].scrollTop + arguments[0].offsetHeight;', pop_up_window)\n",
    "    ans=driver.find_elements_by_class_name(\"MqpiF\")\n",
    "    \n",
    "    if len(ans)>=100:\n",
    "        break\n",
    "        \n",
    "    time.sleep(1)\n",
    "        \n",
    "       \n"
   ]
  },
  {
   "cell_type": "code",
   "execution_count": 36,
   "metadata": {},
   "outputs": [
    {
     "name": "stdout",
     "output_type": "stream",
     "text": [
      "himalayas.in\n"
     ]
    }
   ],
   "source": [
    "# now we have all the usernames in ans so check in foodtalkindia_follower list whom u follow but who does not follow's you\n",
    "my_followers=[]\n",
    "for user_name in ans:\n",
    "    my_followers.append(user_name.text)\n",
    "    \n",
    "for name in foodtalkindia_follower:\n",
    "    if name not in my_followers:\n",
    "        print(name)\n",
    "\n",
    "driver.back()"
   ]
  },
  {
   "cell_type": "markdown",
   "metadata": {},
   "source": [
    "*** Question 7: Check the story of ‘coding.ninjas’. Consider the following Scenarios and print error messages accordingly -\n",
    "If You have already seen the story.\n",
    "Or The user has no story.\n",
    "Or View the story if not yet seen***"
   ]
  },
  {
   "cell_type": "code",
   "execution_count": 38,
   "metadata": {},
   "outputs": [],
   "source": [
    "#Check the story of ‘coding.ninjas’. Consider the following Scenarios and print error messages accordingly -\n",
    "#If You have already seen the story.\n",
    "#Or The user has no story.\n",
    "#Or View the story if not yet seen.\n",
    "\n",
    "# type coding ninjas on search box\n",
    "\n",
    "search=driver.find_element_by_class_name(\"_0aCwM\")\n",
    "search.click()\n",
    "\n",
    "type_=driver.find_element_by_class_name(\"x3qfX\")\n",
    "type_.send_keys(\"coding.ninjas\")\n",
    "time.sleep(3)"
   ]
  },
  {
   "cell_type": "code",
   "execution_count": 39,
   "metadata": {},
   "outputs": [],
   "source": [
    "# first link is of coding ninjas\n",
    "# opening profile of \"coding.ninjas\" class_name=\"-qQT3\"\n",
    "link_for_all_searchs_in_list=driver.find_elements_by_class_name(\"-qQT3\")\n",
    "\n",
    "# So Delhi at 1st place for click on 1st lInk\n",
    "link_for_all_searchs_in_list[0].click()\n",
    "\n"
   ]
  },
  {
   "cell_type": "code",
   "execution_count": 40,
   "metadata": {},
   "outputs": [
    {
     "name": "stdout",
     "output_type": "stream",
     "text": [
      "Story Available\n",
      "Story seen\n"
     ]
    }
   ],
   "source": [
    "## now we have to check the story of:\n",
    "from bs4 import BeautifulSoup\n",
    "link_to_story=driver.find_element_by_xpath(\"//div[contains(@class,'RR-M- h5uC0')]\")\n",
    "data=BeautifulSoup(driver.page_source,\"lxml\")\n",
    "ans=data.find(class_=\"RR-M-\")\n",
    "\n",
    "if ans['aria-disabled']==\"true\":\n",
    "    print(\"Story NOT Available\")\n",
    "else:\n",
    "    print(\"Story Available\")\n",
    "    link_to_story.click()\n",
    "    time.sleep(5)\n",
    "    print(\"Story seen\")\n",
    "  \n",
    "\n",
    "\n"
   ]
  },
  {
   "cell_type": "markdown",
   "metadata": {},
   "source": [
    "*** Question 8] Now your friend has followed a lot of different food bloggers, he needs to analyse the habits of these bloggers.\n",
    "a] From the list of instagram handles you obtained when you searched ‘food’ in previous project.\n",
    "   Open the first 10 handles and find the top 5 which have the highest number of followers\n",
    "b] Now Find the number of posts these handles have done in the previous 3 days.\n",
    "c] Depict this information using a suitable graph.***"
   ]
  },
  {
   "cell_type": "code",
   "execution_count": 41,
   "metadata": {},
   "outputs": [],
   "source": [
    "# a] From the list of instagram handles you obtained when you searched ‘food’ in previous project. \n",
    "# Open the first 10 handles and find the top 5 which have the highest number of followers\n",
    "from bs4 import BeautifulSoup\n",
    "#handles lists I obtained when searched 'food' in last project:\n",
    "first_10_handles=['dilsefoodie', 'foodie_incarnate', 'delhifoodwalks', 'foodtalkindia', 'dehradun_street_food',\n",
    "                  'the.food_cult', 'doonfoodtales', 'food_dopamine', 'yourfoodlab', 'foodrush.recipe']\n",
    "handle_follower={}\n",
    "for handle in first_10_handles:\n",
    "    search=driver.find_element_by_class_name(\"_0aCwM\")\n",
    "    search.click()\n",
    "\n",
    "    type_food=driver.find_element_by_class_name(\"x3qfX\")\n",
    "    type_food.send_keys(handle)\n",
    "    time.sleep(3)\n",
    "    # opening profile of given handle class_name=\"-qQT3\"\n",
    "    link_for_all_searchs_in_list=driver.find_elements_by_class_name(\"-qQT3\")\n",
    "    # Gievn Handle at 1st place for click on 1st lInk\n",
    "    link_for_all_searchs_in_list[0].click()\n",
    "    time.sleep(10)\n",
    "    # get contents of entire page using BeautifulSoup\n",
    "    data=BeautifulSoup(driver.page_source,\"lxml\")\n",
    "    ## search for \"Y8-fY\" class on pages\n",
    "    ans=data.find_all(class_=\"Y8-fY\")\n",
    "    # 1sT \"Y8-fY\" shows the number of post, 2nd shows the Number of followers 3rd the number of following\n",
    "    # we want number of follower therefore 2nd element in the list\n",
    "    followers=ans[1].span['title']\n",
    "    ans=followers.split(\",\")\n",
    "    number_of_followers=\"\"\n",
    "    for i in ans:\n",
    "        number_of_followers=number_of_followers+i\n",
    "    handle_follower[handle]=int(number_of_followers)    \n",
    "    time.sleep(3)\n"
   ]
  },
  {
   "cell_type": "code",
   "execution_count": 42,
   "metadata": {},
   "outputs": [
    {
     "data": {
      "text/plain": [
       "{'dilsefoodie': 815046,\n",
       " 'foodie_incarnate': 652260,\n",
       " 'delhifoodwalks': 150653,\n",
       " 'foodtalkindia': 305987,\n",
       " 'dehradun_street_food': 1947,\n",
       " 'the.food_cult': 84318,\n",
       " 'doonfoodtales': 3909,\n",
       " 'food_dopamine': 1223,\n",
       " 'yourfoodlab': 1759713,\n",
       " 'foodrush.recipe': 574065}"
      ]
     },
     "execution_count": 42,
     "metadata": {},
     "output_type": "execute_result"
    }
   ],
   "source": [
    "handle_follower"
   ]
  },
  {
   "cell_type": "code",
   "execution_count": 44,
   "metadata": {},
   "outputs": [
    {
     "data": {
      "text/plain": [
       "[('yourfoodlab', 1759713),\n",
       " ('dilsefoodie', 815046),\n",
       " ('foodie_incarnate', 652260),\n",
       " ('foodrush.recipe', 574065),\n",
       " ('foodtalkindia', 305987)]"
      ]
     },
     "execution_count": 44,
     "metadata": {},
     "output_type": "execute_result"
    }
   ],
   "source": [
    "## Top 5 handles\n",
    "from collections import Counter\n",
    "import datetime\n",
    "handle_follower=Counter(handle_follower)\n",
    "Top_5_handles=handle_follower.most_common(5)\n",
    "Top_5_handles"
   ]
  },
  {
   "cell_type": "code",
   "execution_count": 45,
   "metadata": {},
   "outputs": [],
   "source": [
    "from collections import Counter\n",
    "import datetime\n",
    "\n",
    "\n",
    "# b]Now Find the number of posts these handles have done in the previous 3 days.\n",
    "handle_post={}\n",
    "\n",
    "for handle in Top_5_handles:\n",
    "    count_of_post=0\n",
    "    search=driver.find_element_by_class_name(\"_0aCwM\")\n",
    "    search.click()\n",
    "\n",
    "    time.sleep(1)\n",
    "    type_food=driver.find_element_by_class_name(\"x3qfX\")\n",
    "    #tuple(handle_name,number_of_followers)\n",
    "    type_food.send_keys(handle[0])\n",
    "    time.sleep(3)\n",
    "    # opening profile of given handle class_name=\"-qQT3\"\n",
    "    link_for_all_searchs_in_list=driver.find_elements_by_class_name(\"-qQT3\")\n",
    "    # Gievn Handle at 1st place for click on 1st lInk\n",
    "    link_for_all_searchs_in_list[0].click()\n",
    "    time.sleep(10)\n",
    "    \n",
    "    # now I need to go to user's post\n",
    "    # for this we just need the link of 1st post\n",
    "\n",
    "    # class_name for all post is =\"_9AhH0\"\n",
    "    first_post=driver.find_element_by_class_name(\"_9AhH0\")\n",
    "    # for click on this link\n",
    "    first_post.click()\n",
    "    time.sleep(5)\n",
    "    while True:\n",
    "        #\n",
    "        #after opening the post look in the page_source for \"date/time\"\n",
    "        data=BeautifulSoup(driver.page_source,\"lxml\")\n",
    "        ans=data.find(class_=\"c-Yi7\")\n",
    "        \n",
    "        a=ans.time['datetime']\n",
    "        ### getting the date,month,year of post which is a string so using spliting \n",
    "        date=int(a[8:10])\n",
    "        month=int(a[5:7])\n",
    "        year=int(a[0:4])\n",
    "        ## setting the date of 13/08/2021 so three days for me 13,14,15\n",
    "        # can change accordinly\n",
    "        three_days_back=datetime.datetime(2021,8,13)\n",
    "        if datetime.datetime(year,month,date)>=three_days_back:\n",
    "            count_of_post=count_of_post+1\n",
    "        if datetime.datetime(year,month,date)<three_days_back:\n",
    "            break\n",
    "        time.sleep(3)\n",
    "        # click on next button to move to next photo\n",
    "        driver.find_element_by_xpath(\"//a[contains(@class,' _65Bje  coreSpriteRightPaginationArrow')]\").click()\n",
    "        time.sleep(10)\n",
    "    # click on cancel button to get out of the post sequence\n",
    "    time.sleep(10)\n",
    "    driver.find_element_by_xpath(\"//div[contains(@class,'qJPeX            fm1AK   TxciK yiMZG')]\").click()\n",
    "    time.sleep(3)\n",
    "    handle_post[handle[0]]=count_of_post\n",
    "    \n",
    "        "
   ]
  },
  {
   "cell_type": "code",
   "execution_count": 46,
   "metadata": {},
   "outputs": [
    {
     "data": {
      "text/plain": [
       "{'yourfoodlab': 5,\n",
       " 'dilsefoodie': 11,\n",
       " 'foodie_incarnate': 11,\n",
       " 'foodrush.recipe': 1,\n",
       " 'foodtalkindia': 9}"
      ]
     },
     "execution_count": 46,
     "metadata": {},
     "output_type": "execute_result"
    }
   ],
   "source": [
    "handle_post"
   ]
  },
  {
   "cell_type": "code",
   "execution_count": 47,
   "metadata": {},
   "outputs": [],
   "source": [
    "handle_user_name=[]\n",
    "number_of_post=[]\n",
    "for data in handle_post:\n",
    "    handle_user_name.append(data)\n",
    "    number_of_post.append(handle_post[data])"
   ]
  },
  {
   "cell_type": "code",
   "execution_count": 48,
   "metadata": {},
   "outputs": [
    {
     "data": {
      "image/png": "[encoded data removed]",
      "text/plain": [
       "<Figure size 432x288 with 1 Axes>"
      ]
     },
     "metadata": {
      "needs_background": "light"
     },
     "output_type": "display_data"
    }
   ],
   "source": [
    "import matplotlib.pyplot as plt\n",
    "\n",
    "plt.bar(handle_user_name,number_of_post)\n",
    "plt.xticks(rotation=45)\n",
    "plt.xlabel(\"User_name\")\n",
    "plt.ylabel(\"Number of Post In Last 3 days\")\n",
    "plt.title(\"Number Of Posts Handles Have Done In The Previous 3 Days\")\n",
    "plt.show()"
   ]
  },
  {
   "cell_type": "markdown",
   "metadata": {},
   "source": [
    "***Question 9: Your friend also needs a list of hashtags that he should use in his posts.\n",
    "A] Open the 5 handles you obtained in the last question, and scrape the content of the first 10 posts of each handle.\n",
    "B] Prepare a list of all words used in all the scraped posts and calculate the frequency of each word.\n",
    "C] Create a csv file with two columns : the word and its frequency\n",
    "D] Now, find the hashtags that were most popular among these bloggers\n",
    "E]Plot a Pie Chart of the top 5 hashtags obtained and the number of times they were used by these bloggers in the scraped posts.***"
   ]
  },
  {
   "cell_type": "markdown",
   "metadata": {},
   "source": [
    "***A] Open the 5 handles you obtained in the last question, and scrape the content of the first 10 posts of each handle.***"
   ]
  },
  {
   "cell_type": "code",
   "execution_count": 132,
   "metadata": {},
   "outputs": [],
   "source": [
    "content_dict={}\n",
    "for handle in Top_5_handles:\n",
    "    \n",
    "    search=driver.find_element_by_class_name(\"_0aCwM\")\n",
    "    search.click()\n",
    "\n",
    "    time.sleep(1)\n",
    "    type_food=driver.find_element_by_class_name(\"x3qfX\")\n",
    "    #tuple(handle_name,number_of_followers)\n",
    "    type_food.send_keys(handle[0])\n",
    "    time.sleep(3)\n",
    "    # opening profile of given handle class_name=\"-qQT3\"\n",
    "    link_for_all_searchs_in_list=driver.find_elements_by_class_name(\"-qQT3\")\n",
    "    # Gievn Handle at 1st place for click on 1st lInk\n",
    "    link_for_all_searchs_in_list[0].click()\n",
    "    time.sleep(10)\n",
    "    \n",
    "    # now I need to go to user's post\n",
    "    # for this we just need the link of 1st post\n",
    "\n",
    "    # class_name for all post is =\"_9AhH0\"\n",
    "    first_post=driver.find_element_by_class_name(\"_9AhH0\")\n",
    "    # for click on this link\n",
    "    first_post.click()\n",
    "    time.sleep(5)\n",
    "    for i in range(10):\n",
    "        #\n",
    "        #after opening the post look in the class_name(\"C4VMK\")\"\n",
    "        content=driver.find_element_by_class_name(\"C4VMK\")\n",
    "        # split the content to space\n",
    "        new_cont=content.text.split(\" \")\n",
    "        \n",
    "        ## split the content that has \\n in it \n",
    "        new_list=[]\n",
    "        for data in new_cont:\n",
    "            if \"\\n\" in data:\n",
    "                # first remove the content with new \\n in it from the list\n",
    "                new_cont.remove(data)\n",
    "                ## split the content that has \\n in it\n",
    "                new_data=data.split(\"\\n\")\n",
    "                ## add splited content to new list as directly adding to new_cont list will make it a endless loop\n",
    "                for i in new_data:\n",
    "                    new_list.append(i)\n",
    "        # add content from new_list to new_cont\n",
    "        for i in new_list:\n",
    "            new_cont.append(i)\n",
    "        # making dictionary content_dict\n",
    "        for i in new_cont:\n",
    "            if i != \" \" and i!=\".\" and i!=\",\" and i!=\"\":\n",
    "                if i in content_dict:\n",
    "                    content_dict[i]+=1\n",
    "                else:\n",
    "                    content_dict[i]=1\n",
    "        ## move to next post\n",
    "        # click on next button to move to next photo\n",
    "        driver.find_element_by_xpath(\"//a[contains(@class,' _65Bje  coreSpriteRightPaginationArrow')]\").click()\n",
    "        time.sleep(10)\n",
    "    time.sleep(10)\n",
    "    driver.find_element_by_xpath(\"//div[contains(@class,'qJPeX            fm1AK   TxciK yiMZG')]\").click()\n",
    "    time.sleep(3) \n"
   ]
  },
  {
   "cell_type": "markdown",
   "metadata": {},
   "source": [
    "***B] Prepare a list of all words used in all the scraped posts and calculate the frequency of each word.***"
   ]
  },
  {
   "cell_type": "code",
   "execution_count": 175,
   "metadata": {},
   "outputs": [],
   "source": [
    "## Content dictionary has all the words with thier frequency\n",
    "content_dict=Counter(content_dict)\n",
    "# crating a main list of lists of words,frequency\n",
    "main_list=[]\n",
    "\n",
    "for data in content_dict:\n",
    "    inside_list=[]\n",
    "    inside_list.append(data)\n",
    "    inside_list.append(content_dict[data])\n",
    "    main_list.append(inside_list)\n",
    "\n"
   ]
  },
  {
   "cell_type": "markdown",
   "metadata": {},
   "source": [
    "*** C] Create a csv file with two columns : the word and its frequency ***"
   ]
  },
  {
   "cell_type": "code",
   "execution_count": 177,
   "metadata": {},
   "outputs": [
    {
     "data": {
      "text/html": [
       "<div>\n",
       "<style scoped>\n",
       "    .dataframe tbody tr th:only-of-type {\n",
       "        vertical-align: middle;\n",
       "    }\n",
       "\n",
       "    .dataframe tbody tr th {\n",
       "        vertical-align: top;\n",
       "    }\n",
       "\n",
       "    .dataframe thead th {\n",
       "        text-align: right;\n",
       "    }\n",
       "</style>\n",
       "<table border=\"1\" class=\"dataframe\">\n",
       "  <thead>\n",
       "    <tr style=\"text-align: right;\">\n",
       "      <th></th>\n",
       "      <th>word</th>\n",
       "      <th>frequency</th>\n",
       "    </tr>\n",
       "  </thead>\n",
       "  <tbody>\n",
       "    <tr>\n",
       "      <th>0</th>\n",
       "      <td>Paneer</td>\n",
       "      <td>11</td>\n",
       "    </tr>\n",
       "    <tr>\n",
       "      <th>1</th>\n",
       "      <td>Paratha</td>\n",
       "      <td>2</td>\n",
       "    </tr>\n",
       "    <tr>\n",
       "      <th>2</th>\n",
       "      <td>recipe</td>\n",
       "      <td>37</td>\n",
       "    </tr>\n",
       "    <tr>\n",
       "      <th>3</th>\n",
       "      <td>is</td>\n",
       "      <td>75</td>\n",
       "    </tr>\n",
       "    <tr>\n",
       "      <th>4</th>\n",
       "      <td>out</td>\n",
       "      <td>36</td>\n",
       "    </tr>\n",
       "    <tr>\n",
       "      <th>...</th>\n",
       "      <td>...</td>\n",
       "      <td>...</td>\n",
       "    </tr>\n",
       "    <tr>\n",
       "      <th>1874</th>\n",
       "      <td>🥩🥓🍖🍔</td>\n",
       "      <td>1</td>\n",
       "    </tr>\n",
       "    <tr>\n",
       "      <th>1875</th>\n",
       "      <td>@hman_bbq</td>\n",
       "      <td>1</td>\n",
       "    </tr>\n",
       "    <tr>\n",
       "      <th>1876</th>\n",
       "      <td>few!</td>\n",
       "      <td>1</td>\n",
       "    </tr>\n",
       "    <tr>\n",
       "      <th>1877</th>\n",
       "      <td>Mark</td>\n",
       "      <td>1</td>\n",
       "    </tr>\n",
       "    <tr>\n",
       "      <th>1878</th>\n",
       "      <td>🗓</td>\n",
       "      <td>1</td>\n",
       "    </tr>\n",
       "  </tbody>\n",
       "</table>\n",
       "<p>1879 rows × 2 columns</p>\n",
       "</div>"
      ],
      "text/plain": [
       "           word  frequency\n",
       "0        Paneer         11\n",
       "1       Paratha          2\n",
       "2        recipe         37\n",
       "3            is         75\n",
       "4           out         36\n",
       "...         ...        ...\n",
       "1874       🥩🥓🍖🍔          1\n",
       "1875  @hman_bbq          1\n",
       "1876       few!          1\n",
       "1877       Mark          1\n",
       "1878          🗓          1\n",
       "\n",
       "[1879 rows x 2 columns]"
      ]
     },
     "execution_count": 177,
     "metadata": {},
     "output_type": "execute_result"
    }
   ],
   "source": [
    "import pandas as pd\n",
    "df=pd.DataFrame(main_list,columns=[\"word\",\"frequency\"])\n",
    "\n",
    "df.to_csv(\"Insta_bot_words.csv\")\n",
    "df"
   ]
  },
  {
   "cell_type": "markdown",
   "metadata": {},
   "source": [
    "*** D] Now, find the hashtags that were most popular among these bloggers ***\n"
   ]
  },
  {
   "cell_type": "code",
   "execution_count": 184,
   "metadata": {},
   "outputs": [
    {
     "data": {
      "text/plain": [
       "[('#foodie', 16),\n",
       " ('#streetfood', 14),\n",
       " ('#foodporn', 12),\n",
       " ('#recipe', 12),\n",
       " ('#food', 11),\n",
       " ('#indianfood', 10),\n",
       " ('#sanjyotkeer', 10),\n",
       " ('#yourfoodlab', 10),\n",
       " ('#dilsefoodie', 9),\n",
       " ('#streetfoodindia', 8)]"
      ]
     },
     "execution_count": 184,
     "metadata": {},
     "output_type": "execute_result"
    }
   ],
   "source": [
    "# Getting # from main_list\n",
    "hash_tag_dict={}\n",
    "\n",
    "for data in main_list:\n",
    "    # hashtag is present on the 0th index of each words\n",
    "    if \"#\" in data[0]:\n",
    "        hash_tag_dict[data[0]]=data[1]\n",
    "        \n",
    "# getting 10 top most common hashtags\n",
    "hash_tag_dict=Counter(hash_tag_dict)\n",
    "Top10_hash_tag_list=hash_tag_dict.most_common(10)\n",
    "Top10_hash_tag_list"
   ]
  },
  {
   "cell_type": "markdown",
   "metadata": {},
   "source": [
    "*** E]Plot a Pie Chart of the top 5 hashtags obtained and the number of times they were used by these bloggers in the scraped posts.***"
   ]
  },
  {
   "cell_type": "code",
   "execution_count": 188,
   "metadata": {},
   "outputs": [
    {
     "data": {
      "image/png": "[encoded data removed]",
      "text/plain": [
       "<Figure size 432x288 with 1 Axes>"
      ]
     },
     "metadata": {},
     "output_type": "display_data"
    }
   ],
   "source": [
    "hashtag=[]\n",
    "frequency=[] \n",
    "## Now only using Top5 to plot\n",
    "for data in Top10_hash_tag_list[0:5]:\n",
    "    hashtag.append(data[0])\n",
    "    frequency.append(data[1])\n",
    "plt.pie(frequency,labels=hashtag,autopct=\"%.2f%%\")\n",
    "plt.title(\"Top 5 Hashtags Obtained and The Number of Times They Were Used by Top 5 bloggers\")\n",
    "plt.show()\n",
    "    "
   ]
  }
 ],
 "metadata": {
  "kernelspec": {
   "display_name": "Python 3",
   "language": "python",
   "name": "python3"
  },
  "language_info": {
   "codemirror_mode": {
    "name": "ipython",
    "version": 3
   },
   "file_extension": ".py",
   "mimetype": "text/x-python",
   "name": "python",
   "nbconvert_exporter": "python",
   "pygments_lexer": "ipython3",
   "version": "3.8.5"
  }
 },
 "nbformat": 4,
 "nbformat_minor": 4
}
